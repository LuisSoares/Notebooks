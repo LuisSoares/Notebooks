{
 "cells": [
  {
   "cell_type": "markdown",
   "metadata": {},
   "source": [
    "#### Using HDF5 to store Sequencing Tracks"
   ]
  },
  {
   "cell_type": "markdown",
   "metadata": {},
   "source": [
    "Typical genomic data is stored in BED format. BED files can contain several different fields however they must include at least 4 fields separated by tabs.\n",
    "<ol>\n",
    "<li>Chromosome</li>\n",
    "<li>Start</li>\n",
    "<li>End</li>\n",
    "<li>Value</li>\n",
    "</ol>\n"
   ]
  },
  {
   "cell_type": "markdown",
   "metadata": {},
   "source": [
    "A typical BED file looks like this:"
   ]
  },
  {
   "cell_type": "code",
   "execution_count": 1,
   "metadata": {
    "collapsed": false
   },
   "outputs": [
    {
     "name": "stdout",
     "output_type": "stream",
     "text": [
      "IX\t0\t12\t0.0\n",
      "IX\t12\t162\t0.26487\n",
      "IX\t162\t19474\t0.0\n",
      "IX\t19474\t19481\t0.26487\n",
      "IX\t19481\t19498\t0.52974\n",
      "IX\t19498\t19502\t0.79461\n",
      "IX\t19502\t19510\t1.05948\n",
      "IX\t19510\t19624\t1.32435\n",
      "IX\t19624\t19631\t1.05948\n",
      "IX\t19631\t19648\t0.79461\n"
     ]
    }
   ],
   "source": [
    "!head bar40.txt\n"
   ]
  },
  {
   "cell_type": "markdown",
   "metadata": {},
   "source": [
    "As you can see BED files store data as intervals. As expected the size of a BED file depends on the size of the genome and the number of intervals present. In this case this particular BED file has the following size (in bytes):\n"
   ]
  },
  {
   "cell_type": "code",
   "execution_count": 2,
   "metadata": {
    "collapsed": false
   },
   "outputs": [
    {
     "name": "stdout",
     "output_type": "stream",
     "text": [
      "94232578\n"
     ]
    }
   ],
   "source": [
    "import os\n",
    "print(os.stat(\"bar40.txt\").st_size)"
   ]
  },
  {
   "cell_type": "markdown",
   "metadata": {},
   "source": [
    "Having the data in intervals makes it particularly hard to find positions. One alternative is to simply create arrays to hold the data which will enable you to use simple index to retrieve locations. Numpy arrays seem particularly fitting for this."
   ]
  },
  {
   "cell_type": "code",
   "execution_count": 3,
   "metadata": {
    "collapsed": false
   },
   "outputs": [],
   "source": [
    "import numpy as np #import numpy\n",
    "chrIX_size=439888 #In this case the BED file contains data from budding yeast, chromosome IX has 439888 bp\n",
    "def load_track(BED):\n",
    "    \"\"\" This function creates an array for ChrIX data and populates it with data from the BED file\"\"\"\n",
    "    data=np.zeros(chrIX_size) #create an empty array with the size of the chromosome\n",
    "    with open(BED) as data_file:\n",
    "        for line in data_file:\n",
    "            row=line.split('\\t')\n",
    "            if row[0]=='IX':\n",
    "                data[int(row[1]):int(row[2])]=float(row[3]) #populate array\n",
    "    return data\n"
   ]
  },
  {
   "cell_type": "markdown",
   "metadata": {},
   "source": [
    "Now we can just load the data in the array a retrieve the intervals"
   ]
  },
  {
   "cell_type": "code",
   "execution_count": 4,
   "metadata": {
    "collapsed": false
   },
   "outputs": [
    {
     "data": {
      "image/png": "[encoded data removed]",
      "text/plain": [
       "<matplotlib.figure.Figure at 0x941e898>"
      ]
     },
     "metadata": {},
     "output_type": "display_data"
    }
   ],
   "source": [
    "%matplotlib inline\n",
    "import matplotlib.pyplot as plt\n",
    "import seaborn as sns\n",
    "chr_IX_data=load_track('bar40.txt')\n",
    "plt.plot(chr_IX_data[100000:105000]); #plotting the interval\n",
    "plt.xlabel('Location');\n",
    "plt.ylabel('Values');\n",
    "plt.title('Values for ChrIX:100000:105000');"
   ]
  },
  {
   "cell_type": "markdown",
   "metadata": {},
   "source": [
    "Of course the same strategy can be applied for data from all chromosome using a dictionary to store all chromosomes."
   ]
  },
  {
   "cell_type": "code",
   "execution_count": 5,
   "metadata": {
    "collapsed": false
   },
   "outputs": [],
   "source": [
    "list_of_chromosomes = ['I', 'II', 'III', 'IV', 'V', 'VI', 'VII', 'VIII', 'IX', 'X', 'XI', 'XII', 'XIII', 'XIV', 'XV',\n",
    "                          'XVI', 'MT'] # The names of all chromosomes\n",
    "size_of_chromosomes = [230218, 813184, 316620, 1531933, 576874, 270161, 1090940, 562643, 439888, 745751, 666816,\n",
    "                           1078177, 924431, 784333, 1091291, 948066, 85779] #the sizes of all chromosomes\n",
    "chromosomes=[(chrom,size) for chrom,size in zip(list_of_chromosomes,size_of_chromosomes)]"
   ]
  },
  {
   "cell_type": "markdown",
   "metadata": {},
   "source": [
    "And redefine the loading function "
   ]
  },
  {
   "cell_type": "code",
   "execution_count": 6,
   "metadata": {
    "collapsed": false
   },
   "outputs": [],
   "source": [
    "def load_track(BED):\n",
    "    \"\"\" This function creates a dictionary of arrays and populates it with data from the BED file\"\"\"\n",
    "    data=dict()\n",
    "    for item in chromosomes:\n",
    "        data[item[0]]=np.zeros(item[1]) #create an empty array with the size of the chromosome\n",
    "    with open(BED) as data_file:\n",
    "        for line in data_file:\n",
    "            row=line.split('\\t')\n",
    "            data[row[0]][int(row[1]):int(row[2])]=float(row[3]) #populate array\n",
    "    return data"
   ]
  },
  {
   "cell_type": "markdown",
   "metadata": {},
   "source": [
    "And now we have a dictionary containing the entire data track"
   ]
  },
  {
   "cell_type": "code",
   "execution_count": 7,
   "metadata": {
    "collapsed": false
   },
   "outputs": [
    {
     "name": "stdout",
     "output_type": "stream",
     "text": [
      "Chromosome:VII --> 1090940 bp\n",
      "Chromosome:V --> 576874 bp\n",
      "Chromosome:XV --> 1091291 bp\n",
      "Chromosome:I --> 230218 bp\n",
      "Chromosome:VIII --> 562643 bp\n",
      "Chromosome:XIII --> 924431 bp\n",
      "Chromosome:XII --> 1078177 bp\n",
      "Chromosome:II --> 813184 bp\n",
      "Chromosome:XVI --> 948066 bp\n",
      "Chromosome:XI --> 666816 bp\n",
      "Chromosome:X --> 745751 bp\n",
      "Chromosome:III --> 316620 bp\n",
      "Chromosome:XIV --> 784333 bp\n",
      "Chromosome:IV --> 1531933 bp\n",
      "Chromosome:MT --> 85779 bp\n",
      "Chromosome:IX --> 439888 bp\n",
      "Chromosome:VI --> 270161 bp\n"
     ]
    }
   ],
   "source": [
    "track_data=load_track('bar40.txt')\n",
    "for chromosome,size in track_data.items():\n",
    "    print(\"Chromosome:{0} --> {1} bp\".format(chromosome,len(size)))"
   ]
  },
  {
   "cell_type": "markdown",
   "metadata": {},
   "source": [
    "And can plot the data using dictionary indexing"
   ]
  },
  {
   "cell_type": "code",
   "execution_count": 8,
   "metadata": {
    "collapsed": false
   },
   "outputs": [
    {
     "data": {
      "image/png": "[encoded data removed]",
      "text/plain": [
       "<matplotlib.figure.Figure at 0xaa51438>"
      ]
     },
     "metadata": {},
     "output_type": "display_data"
    }
   ],
   "source": [
    "plt.plot(track_data['IX'][100000:105000]);\n",
    "plt.xlabel('Location');\n",
    "plt.ylabel('Values');\n",
    "plt.title('Values for ChrIX:100000:105000');"
   ]
  },
  {
   "cell_type": "markdown",
   "metadata": {},
   "source": [
    "While this approach works well for small genome sizes, there will probably problems with scalling up in larger genomes since the entire dictionary is kept in memory. And even for budding yeast the data would occupy several Mb, causing problems if you are working with more than a dataset."
   ]
  },
  {
   "cell_type": "code",
   "execution_count": 9,
   "metadata": {
    "collapsed": false
   },
   "outputs": [
    {
     "name": "stdout",
     "output_type": "stream",
     "text": [
      "Size of data in memory: 97256840 bytes\n"
     ]
    }
   ],
   "source": [
    "#check the size of the dictionary\n",
    "import sys\n",
    "size=0\n",
    "for values in track_data.values():\n",
    "    size+=values.nbytes\n",
    "print('Size of data in memory: {} bytes'.format(size))"
   ]
  },
  {
   "cell_type": "markdown",
   "metadata": {},
   "source": [
    "The footprint of a single dataset is more than 90 Mb. With human data there would probably be at least 100x bigger footprint."
   ]
  },
  {
   "cell_type": "markdown",
   "metadata": {},
   "source": [
    "This problem could be addressed in several ways: data could be loaded in numpy memory views and kept on disk or in case of data with low density, sparse matrices could be used. Another drawback of this approach is saving that data for later use, while you could pickle the data structure, this approach is not recommended since legacy problems could arise."
   ]
  },
  {
   "cell_type": "markdown",
   "metadata": {},
   "source": [
    "Luckily you can use HDF5 data model and it's implementation in python to address this problem"
   ]
  },
  {
   "cell_type": "markdown",
   "metadata": {},
   "source": [
    "Creating a HDF5 is almost as simple as creating a dictionary and data access is also very similar"
   ]
  },
  {
   "cell_type": "code",
   "execution_count": 10,
   "metadata": {
    "collapsed": false
   },
   "outputs": [],
   "source": [
    "import h5py\n",
    "#create an hdf5 file\n",
    "hdf5_file=h5py.File(\"datasets.hdf5\",\"w\") #create a hdf5 file\n",
    "\n",
    "def create_hdf5_track(dataset_name,hdf5_file_handler):\n",
    "    temp=hdf5_file_handler.create_group(dataset_name) #create a first group with the name of our dataset\n",
    "    for item in chromosomes:\n",
    "        temp.create_dataset(item[0],(item[1],),dtype='f') #to the dataset group we add subgroups containing empty arrays"
   ]
  },
  {
   "cell_type": "code",
   "execution_count": 11,
   "metadata": {
    "collapsed": false
   },
   "outputs": [
    {
     "name": "stdout",
     "output_type": "stream",
     "text": [
      "bar40\n",
      "bar40/I\n",
      "bar40/II\n",
      "bar40/III\n",
      "bar40/IV\n",
      "bar40/IX\n",
      "bar40/MT\n",
      "bar40/V\n",
      "bar40/VI\n",
      "bar40/VII\n",
      "bar40/VIII\n",
      "bar40/X\n",
      "bar40/XI\n",
      "bar40/XII\n",
      "bar40/XIII\n",
      "bar40/XIV\n",
      "bar40/XV\n",
      "bar40/XVI\n"
     ]
    }
   ],
   "source": [
    "create_hdf5_track('bar40',hdf5_file) #populate the file\n",
    "hdf5_file.visit(lambda x:print(x)) #check the organization of the file"
   ]
  },
  {
   "cell_type": "markdown",
   "metadata": {},
   "source": [
    "Since hdf5 files are similar to dictionaries we can use functions similar to the ones defined before to load the data."
   ]
  },
  {
   "cell_type": "code",
   "execution_count": 12,
   "metadata": {
    "collapsed": true
   },
   "outputs": [],
   "source": [
    "def load_track_in_hdf5(BED,hdf5):\n",
    "    data=dict()\n",
    "    for item in chromosomes:\n",
    "        data[item[0]]=np.zeros(item[1]) #create an empty array with the size of the chromosome\n",
    "    with open(BED) as data_file:\n",
    "        for line in data_file:\n",
    "            row=line.split('\\t')\n",
    "            data[row[0]][int(row[1]):int(row[2])]=float(row[3]) #populate array\n",
    "    for key,value in data.items():\n",
    "            hdf5['bar40'][key][...] = value #populate hdf5 file"
   ]
  },
  {
   "cell_type": "markdown",
   "metadata": {},
   "source": [
    "We can now load our data in the hdf5 file"
   ]
  },
  {
   "cell_type": "code",
   "execution_count": 13,
   "metadata": {
    "collapsed": false
   },
   "outputs": [],
   "source": [
    "load_track_in_hdf5('bar40.txt',hdf5_file)"
   ]
  },
  {
   "cell_type": "markdown",
   "metadata": {},
   "source": [
    "And confirm that it looks the same as before, only now is kept in the disk and not in memory."
   ]
  },
  {
   "cell_type": "code",
   "execution_count": 14,
   "metadata": {
    "collapsed": false
   },
   "outputs": [
    {
     "data": {
      "image/png": "[encoded data removed]",
      "text/plain": [
       "<matplotlib.figure.Figure at 0xecf0c50>"
      ]
     },
     "metadata": {},
     "output_type": "display_data"
    }
   ],
   "source": [
    "plt.plot(hdf5_file['bar40']['IX'][100000:105000]);\n",
    "plt.xlabel('Location');\n",
    "plt.ylabel('Values');\n",
    "plt.title('Values for ChrIX:100000:105000');"
   ]
  },
  {
   "cell_type": "markdown",
   "metadata": {},
   "source": [
    "Of course storing data in disk comes with an overhead on data access and accessing hd5f data is about 1000x slower however for large datasets it is probably a good tradeoff."
   ]
  },
  {
   "cell_type": "code",
   "execution_count": 15,
   "metadata": {
    "collapsed": false
   },
   "outputs": [
    {
     "name": "stdout",
     "output_type": "stream",
     "text": [
      "hdf5 access: 1000 loops, best of 3: 323 µs per loop\n",
      "numpy array access: The slowest run took 17.69 times longer than the fastest. This could mean that an intermediate result is being cached \n",
      "1000000 loops, best of 3: 371 ns per loop\n"
     ]
    }
   ],
   "source": [
    "print(\"hdf5 access:\",end=' ')\n",
    "%timeit hdf5_file['bar40']['IX'][100000:150000] \n",
    "print(\"numpy array access:\",end=' ')\n",
    "%timeit track_data['IX'][100000:150000]"
   ]
  },
  {
   "cell_type": "markdown",
   "metadata": {},
   "source": [
    "One final modification is related to file size. HDF5 files are still quite large:"
   ]
  },
  {
   "cell_type": "code",
   "execution_count": 16,
   "metadata": {
    "collapsed": false
   },
   "outputs": [
    {
     "name": "stdout",
     "output_type": "stream",
     "text": [
      "48636036\n"
     ]
    }
   ],
   "source": [
    "print(os.stat(\"datasets.hdf5\").st_size)"
   ]
  },
  {
   "cell_type": "markdown",
   "metadata": {},
   "source": [
    "However data can be compressed simply by setting parameters when creating the datasets:"
   ]
  },
  {
   "cell_type": "code",
   "execution_count": 17,
   "metadata": {
    "collapsed": false
   },
   "outputs": [],
   "source": [
    "hdf5_file_compressed=h5py.File(\"datasets_compressed.hdf5\",\"w\")\n",
    "\n",
    "def create_hdf5_track_compressed(dataset_name,hdf5_file_handler):\n",
    "    temp=hdf5_file_handler.create_group(dataset_name) #create a first group with the name of our dataset\n",
    "    for item in chromosomes:\n",
    "        temp.create_dataset(item[0],(item[1],),dtype='f',compression='gzip', compression_opts=9) \n",
    "\n",
    "create_hdf5_track_compressed('bar40',hdf5_file_compressed)\n",
    "\n",
    "load_track_in_hdf5('bar40.txt',hdf5_file_compressed)\n"
   ]
  },
  {
   "cell_type": "code",
   "execution_count": 18,
   "metadata": {
    "collapsed": false
   },
   "outputs": [
    {
     "name": "stdout",
     "output_type": "stream",
     "text": [
      "Compression rate: 0.1281802653489277\n"
     ]
    }
   ],
   "source": [
    "print(\"Compression rate: {}\".format(os.stat(\"datasets_compressed.hdf5\").st_size/os.stat(\"datasets.hdf5\").st_size))"
   ]
  },
  {
   "cell_type": "markdown",
   "metadata": {
    "run_control": {
     "marked": false
    }
   },
   "source": [
    "That's almost a 90% compression rate! And with only a small overhead on indexing:"
   ]
  },
  {
   "cell_type": "code",
   "execution_count": 19,
   "metadata": {
    "collapsed": false
   },
   "outputs": [
    {
     "name": "stdout",
     "output_type": "stream",
     "text": [
      "hdf5 access: 1000 loops, best of 3: 322 µs per loop\n",
      "compressed hdf5 access: 1000 loops, best of 3: 1.17 ms per loop\n"
     ]
    }
   ],
   "source": [
    "print(\"hdf5 access:\",end=' ')\n",
    "%timeit hdf5_file['bar40']['IX'][100000:150000] \n",
    "print(\"compressed hdf5 access:\",end=' ')\n",
    "%timeit hdf5_file_compressed['bar40']['IX'][100000:150000]"
   ]
  }
 ],
 "metadata": {
  "hide_input": true,
  "kernelspec": {
   "display_name": "Python 3",
   "language": "python",
   "name": "python3"
  },
  "language_info": {
   "codemirror_mode": {
    "name": "ipython",
    "version": 3
   },
   "file_extension": ".py",
   "mimetype": "text/x-python",
   "name": "python",
   "nbconvert_exporter": "python",
   "pygments_lexer": "ipython3",
   "version": "3.4.3"
  },
  "latex_envs": {
   "bibliofile": "biblio.bib",
   "cite_by": "apalike",
   "current_citInitial": 1,
   "eqLabelWithNumbers": true,
   "eqNumInitial": 0
  }
 },
 "nbformat": 4,
 "nbformat_minor": 0
}
